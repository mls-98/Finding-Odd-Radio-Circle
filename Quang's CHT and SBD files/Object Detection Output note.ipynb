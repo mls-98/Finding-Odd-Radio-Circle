{
 "cells": [
  {
   "cell_type": "code",
   "execution_count": 7,
   "id": "59026a0b-e36a-44eb-ba34-e598a39e94c9",
   "metadata": {},
   "outputs": [],
   "source": [
    "import pickle\n",
    "from multiprocessing import Pool\n",
    "from glob import glob\n",
    "from collections import Counter\n",
    "from astropy.utils.data import get_pkg_data_filename\n",
    "import pyink as pu\n",
    "\n",
    "import matplotlib.pyplot as plt\n",
    "import numpy as np\n",
    "import pandas as pd\n",
    "import astropy.units as u\n",
    "from tqdm import tqdm as tqdm\n",
    "from astropy.io import fits\n",
    "from astropy.table import Table\n",
    "from astropy.wcs import WCS\n",
    "from reproject import reproject_interp\n",
    "import numpy as np\n",
    "import matplotlib.pyplot as plt\n",
    "import cv2"
   ]
  },
  {
   "cell_type": "markdown",
   "id": "4925fea1-f0f1-4216-a8e2-9533367c1f02",
   "metadata": {},
   "source": [
    "## Circle Hough Transform"
   ]
  },
  {
   "cell_type": "code",
   "execution_count": 4,
   "id": "05fc0729-86e2-4eb7-8c3a-c5b0ef216fe3",
   "metadata": {},
   "outputs": [
    {
     "data": {
      "text/plain": [
       "'/bigdata/users/20744696/Discovery Project/Output Object Detection'"
      ]
     },
     "execution_count": 4,
     "metadata": {},
     "output_type": "execute_result"
    }
   ],
   "source": [
    "import os\n",
    "cwd = os.getcwd()\n",
    "cwd"
   ]
  },
  {
   "cell_type": "code",
   "execution_count": null,
   "id": "0fbe97de-d04c-4cd3-af2e-48268f649b35",
   "metadata": {
    "scrolled": true
   },
   "outputs": [],
   "source": [
    "regionNum = [1,2,3,4,5,6]\n",
    "lowerThres = [2,3,4,5]\n",
    "\n",
    "for i in lowerThres:\n",
    "    for j in regionNum:\n",
    "        img = cv.imread(f\"/bigdata/users/20744696/Discovery Project/region{j}preprocessed_EMU_image_lower{i}.png\")\n",
    "        output = img.copy()\n",
    "        gray = cv.cvtColor(img, cv.COLOR_BGR2GRAY)\n",
    "        gray = cv.medianBlur(gray, 5)\n",
    "        circles = cv.HoughCircles(gray, \n",
    "                                  cv.HOUGH_GRADIENT, \n",
    "                                  1.5, \n",
    "                                  500, \n",
    "                                  param1=300, param2=10, \n",
    "                                  minRadius=5, \n",
    "                                  maxRadius=40)\n",
    "        \n",
    "        if circles is not None:\n",
    "            detected_circles = np.uint16(np.around(circles))\n",
    "            for (x, y, r) in detected_circles[0, :]:\n",
    "                cv.circle(output, (x, y), r, (0, 255, 0), 2)  # Circle outline\n",
    "                cv.circle(output, (x, y), 1, (0, 255, 255), 2)  # Circle center\n",
    "        else:\n",
    "            print(\"No circles were detected. Try adjusting the parameters.\")\n",
    "        \n",
    "        # Display the image with detected circles\n",
    "        plt.imshow(cv.cvtColor(output, cv.COLOR_BGR2RGB))\n",
    "        plt.axis('off')\n",
    "        plt.savefig(f\"noCordCircleHoughTrans_output_region{j}preprocessed_EMU_image_lower{i}\", dpi=500)\n",
    "        plt.show()\n",
    "        plt.close()"
   ]
  },
  {
   "cell_type": "markdown",
   "id": "18335703-f918-4617-9123-ddc25c2b2479",
   "metadata": {},
   "source": [
    "# simpleBlobDetector"
   ]
  },
  {
   "cell_type": "code",
   "execution_count": null,
   "id": "450d7845-a51e-4f79-9a77-658476452704",
   "metadata": {},
   "outputs": [],
   "source": [
    "import math\n",
    "regionNum = [1,2,3,4,5,6]\n",
    "lowerThres = [2,3,4,5]\n",
    "\n",
    "for i in lowerThres:\n",
    "    for j in regionNum:\n",
    "        im = cv2.imread(f\"/bigdata/users/20744696/Discovery Project/region{j}preprocessed_EMU_image_lower{i}.png\", cv2.IMREAD_GRAYSCALE)\n",
    "        \n",
    "        if im is None:\n",
    "            print(\"Error: Could not load the image.\")\n",
    "        else:\n",
    "            #Setup SimpleBlobDetector_create parameters\n",
    "            params = cv2.SimpleBlobDetector_Params()\n",
    "        \n",
    "            #filter by thresholdes\n",
    "            params.minThreshold = 20\n",
    "            params.maxThreshold = 150\n",
    "            \n",
    "            #Filter by Area\n",
    "            params.filterByArea = 1\n",
    "            params.minArea = 2\n",
    "            params.maxArea = math.pi * 10**2\n",
    "        \n",
    "            #filter by Circularity\n",
    "            \n",
    "            #Filter by inertia\n",
    "            params.filterByInertia = 1\n",
    "            params.minInertiaRatio = 0.2\n",
    "            params.maxInertiaRatio = 0.9\n",
    "        \n",
    "            #Convexity\n",
    "            #params.filterByConvexity = 1\n",
    "            #params.minConvexity = 0.5\n",
    "            #params.maxConvexity = 0.7\n",
    "            \n",
    "            # Set up the blob detector with default parameters\n",
    "            ver = (cv2.__version__).split('.')\n",
    "            if int(ver[0])<3:\n",
    "                detector = cv2.SimpleBlobDetector(params)\n",
    "            else:\n",
    "                detector = cv2.SimpleBlobDetector_create(params)\n",
    "        \n",
    "            #Detect Blobs:\n",
    "            keypoints = detector.detect(im)\n",
    "            \n",
    "            # Draw detected blobs as red circles.\n",
    "            # cv2.DRAW_MATCHES_FLAGS_DRAW_RICH_KEYPOINTS ensures the size of the circle corresponds to the size of blob\n",
    "            im_with_keypoints = cv2.drawKeypoints(im, keypoints, np.array([]), (0,255,0), cv2.DRAW_MATCHES_FLAGS_DRAW_RICH_KEYPOINTS)\n",
    "        \n",
    "        #shows image:\n",
    "        plt.imshow(cv2.cvtColor(im_with_keypoints, cv2.COLOR_BGR2RGB))\n",
    "        plt.axis('off')\n",
    "        plt.savefig(f\"noCordsimpleBlob_output_region{j}_EMU_lower{i}\", dpi=500)\n",
    "        plt.show()\n",
    "        plt.close()"
   ]
  }
 ],
 "metadata": {
  "kernelspec": {
   "display_name": "Python 3 (ipykernel)",
   "language": "python",
   "name": "python3"
  },
  "language_info": {
   "codemirror_mode": {
    "name": "ipython",
    "version": 3
   },
   "file_extension": ".py",
   "mimetype": "text/x-python",
   "name": "python",
   "nbconvert_exporter": "python",
   "pygments_lexer": "ipython3",
   "version": "3.9.13"
  }
 },
 "nbformat": 4,
 "nbformat_minor": 5
}
