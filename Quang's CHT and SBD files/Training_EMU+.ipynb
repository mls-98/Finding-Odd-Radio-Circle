{
 "cells": [
  {
   "cell_type": "code",
   "execution_count": 6,
   "id": "edbb9cdd-5523-4a88-9f75-3f229aa9ca03",
   "metadata": {},
   "outputs": [],
   "source": [
    "import pickle\n",
    "from multiprocessing import Pool\n",
    "from glob import glob\n",
    "from collections import Counter\n",
    "from astropy.utils.data import get_pkg_data_filename\n",
    "import pyink as pu\n",
    "\n",
    "import matplotlib.pyplot as plt\n",
    "import numpy as np\n",
    "import pandas as pd\n",
    "import astropy.units as u\n",
    "from tqdm import tqdm as tqdm\n",
    "from astropy.io import fits\n",
    "from astropy.table import Table\n",
    "from astropy.wcs import WCS\n",
    "from reproject import reproject_interp"
   ]
  },
  {
   "cell_type": "markdown",
   "id": "4fad6d5d-ee54-4461-b951-658dab09a2e6",
   "metadata": {},
   "source": [
    "# LOWER = 2"
   ]
  },
  {
   "cell_type": "code",
   "execution_count": 7,
   "id": "959516d2-eb62-4f97-9a82-2da14d6b5881",
   "metadata": {},
   "outputs": [],
   "source": [
    "def radio_preprocessing(data, lower): #usually was data, lower = 3\n",
    "    noise = pu.rms_estimate(data.flatten(), mode='mad', clip_rounds=2)\n",
    "\n",
    "    img_scale = np.zeros_like(data)\n",
    "    for i, mask in enumerate(pu.island_segmentation(data, lower*noise)): #usually was data, 3*noise\n",
    "        if np.sum(mask) <= 5:\n",
    "            continue\n",
    "        img_scale[mask] = pu.minmax(np.log10(data[mask]))\n",
    "    return img_scale.astype(np.float32)"
   ]
  },
  {
   "cell_type": "code",
   "execution_count": 8,
   "id": "bca1c4d1-a00b-44de-9095-cc934c7a484b",
   "metadata": {},
   "outputs": [],
   "source": [
    "filename = get_pkg_data_filename('image.i.EMU_1315+00B.SB64249.cont.taylor.0.restored.raw.fits')\n",
    "hdu = fits.open(filename)[0]\n",
    "wcs = WCS(hdu.header)\n",
    "wcs.wcs.specsys = 'TOPOCENT'\n",
    "#np.nanstd(np.squeeze(hdu.data)) #ignore all NaN "
   ]
  },
  {
   "cell_type": "code",
   "execution_count": null,
   "id": "0cbc0bf6-b2d0-4ade-9ae6-eb1e50c1b742",
   "metadata": {},
   "outputs": [],
   "source": [
    "preprocessed_radio_lower2plus = radio_preprocessing(hdu.data, lower = 2)\n",
    "\n",
    "import pickle\n",
    "file = open('preprocessed_radio_lower2plus.txt', 'wb')\n",
    "pickle.dump(preprocessed_radio_lower2plus, file)\n",
    "file.close()\n"
   ]
  },
  {
   "cell_type": "markdown",
   "id": "d3e4a025-5d27-4375-9f30-e7da121ba002",
   "metadata": {},
   "source": [
    "---"
   ]
  },
  {
   "cell_type": "markdown",
   "id": "97c5a725-de35-4a5f-b8f7-2be5cfe63841",
   "metadata": {},
   "source": [
    "# LOWER = 3"
   ]
  },
  {
   "cell_type": "code",
   "execution_count": 7,
   "id": "d4281384-5cc2-472f-a0f7-2e360b084f9b",
   "metadata": {},
   "outputs": [],
   "source": [
    "def radio_preprocessing(data, lower): #usually was data, lower = 3\n",
    "    noise = pu.rms_estimate(data.flatten(), mode='mad', clip_rounds=2)\n",
    "\n",
    "    img_scale = np.zeros_like(data)\n",
    "    for i, mask in enumerate(pu.island_segmentation(data, lower*noise)): #usually was data, 3*noise\n",
    "        if np.sum(mask) <= 5:\n",
    "            continue\n",
    "        img_scale[mask] = pu.minmax(np.log10(data[mask]))\n",
    "    return img_scale.astype(np.float32)"
   ]
  },
  {
   "cell_type": "code",
   "execution_count": 8,
   "id": "40cbe2c2-fca7-4b61-8a39-60c40bc57ec4",
   "metadata": {},
   "outputs": [],
   "source": [
    "filename = get_pkg_data_filename('image.i.EMU_1315+00B.SB64249.cont.taylor.0.restored.raw.fits')\n",
    "hdu = fits.open(filename)[0]\n",
    "wcs = WCS(hdu.header)\n",
    "wcs.wcs.specsys = 'TOPOCENT'\n",
    "#np.nanstd(np.squeeze(hdu.data)) #ignore all NaN "
   ]
  },
  {
   "cell_type": "code",
   "execution_count": null,
   "id": "296e367a-2e47-4e49-b741-eaa7c405c740",
   "metadata": {},
   "outputs": [],
   "source": [
    "preprocessed_radio_lower3plus = radio_preprocessing(hdu.data, lower = 3)\n",
    "\n",
    "import pickle\n",
    "file = open('preprocessed_radio_lower3plus.txt', 'wb')\n",
    "pickle.dump(preprocessed_radio_lower3plus, file)\n",
    "file.close()\n"
   ]
  },
  {
   "cell_type": "markdown",
   "id": "bbe34f6b-1725-4f12-9c70-9c7bedd85ae8",
   "metadata": {},
   "source": [
    "---"
   ]
  },
  {
   "cell_type": "markdown",
   "id": "d123834d-33a8-4d90-86d3-d28a248b4895",
   "metadata": {},
   "source": [
    "# LOWER = 4"
   ]
  },
  {
   "cell_type": "code",
   "execution_count": null,
   "id": "b318f967-9d44-4ffa-8f53-ee73b0eb5256",
   "metadata": {},
   "outputs": [],
   "source": [
    "def radio_preprocessing(data, lower): #usually was data, lower = 3\n",
    "    noise = pu.rms_estimate(data.flatten(), mode='mad', clip_rounds=2)\n",
    "\n",
    "    img_scale = np.zeros_like(data)\n",
    "    for i, mask in enumerate(pu.island_segmentation(data, lower*noise)): #usually was data, 3*noise\n",
    "        if np.sum(mask) <= 5:\n",
    "            continue\n",
    "        img_scale[mask] = pu.minmax(np.log10(data[mask]))\n",
    "    return img_scale.astype(np.float32)"
   ]
  },
  {
   "cell_type": "code",
   "execution_count": null,
   "id": "6c5f287f-6b25-44bf-98bd-21ee9eca7dc9",
   "metadata": {},
   "outputs": [],
   "source": [
    "filename = get_pkg_data_filename('image.i.EMU_1315+00B.SB64249.cont.taylor.0.restored.raw.fits')\n",
    "hdu = fits.open(filename)[0]\n",
    "wcs = WCS(hdu.header)\n",
    "wcs.wcs.specsys = 'TOPOCENT'\n",
    "#np.nanstd(np.squeeze(hdu.data)) #ignore all NaN "
   ]
  },
  {
   "cell_type": "code",
   "execution_count": null,
   "id": "5de83324-4c78-4328-97e7-b488d685cc63",
   "metadata": {},
   "outputs": [],
   "source": [
    "#-----STORE PREPROCESSED RADIO VALUES INTO A TEXT FILE-------------------------------\n",
    "preprocessed_radio_lower4plus = radio_preprocessing(hdu.data, lower = 4)\n",
    "\n",
    "import pickle\n",
    "file = open('preprocessed_radio_lower4plus.txt', 'wb')\n",
    "pickle.dump(preprocessed_radio_lower4plus, file)\n",
    "file.close()"
   ]
  },
  {
   "cell_type": "markdown",
   "id": "7639d1da-54c9-4ee8-a8b9-5f708f2193dd",
   "metadata": {},
   "source": [
    "---"
   ]
  },
  {
   "cell_type": "markdown",
   "id": "ffe93064-9e4d-4696-80eb-85d2e1c2a17e",
   "metadata": {},
   "source": [
    "# LOWER = 5"
   ]
  },
  {
   "cell_type": "code",
   "execution_count": null,
   "id": "efc8f39a-4a41-47c4-949b-bad86bc61ba7",
   "metadata": {},
   "outputs": [],
   "source": [
    "def radio_preprocessing(data, lower): #usually was data, lower = 3\n",
    "    noise = pu.rms_estimate(data.flatten(), mode='mad', clip_rounds=2)\n",
    "\n",
    "    img_scale = np.zeros_like(data)\n",
    "    for i, mask in enumerate(pu.island_segmentation(data, lower*noise)): #usually was data, 3*noise\n",
    "        if np.sum(mask) <= 5:\n",
    "            continue\n",
    "        img_scale[mask] = pu.minmax(np.log10(data[mask]))\n",
    "    return img_scale.astype(np.float32)"
   ]
  },
  {
   "cell_type": "code",
   "execution_count": null,
   "id": "b24ee499-b359-45a4-9dae-cc1bccc5b897",
   "metadata": {},
   "outputs": [],
   "source": [
    "filename = get_pkg_data_filename('image.i.EMU_1315+00B.SB64249.cont.taylor.0.restored.raw.fits')\n",
    "hdu = fits.open(filename)[0]\n",
    "wcs = WCS(hdu.header)\n",
    "wcs.wcs.specsys = 'TOPOCENT'\n",
    "#np.nanstd(np.squeeze(hdu.data)) #ignore all NaN "
   ]
  },
  {
   "cell_type": "code",
   "execution_count": null,
   "id": "8119e2b8-4ab7-4331-9415-605fe8c2caa9",
   "metadata": {},
   "outputs": [],
   "source": [
    "#-----STORE PREPROCESSED RADIO VALUES INTO A TEXT FILE-------------------------------\n",
    "preprocessed_radio_lower5plus = radio_preprocessing(hdu.data, lower = 5)\n",
    "\n",
    "import pickle\n",
    "file = open('preprocessed_radio_lower5plus.txt', 'wb')\n",
    "pickle.dump(preprocessed_radio_lower5plus, file)\n",
    "file.close()"
   ]
  },
  {
   "cell_type": "markdown",
   "id": "9806756f-5e92-4a3f-b11d-4666a2750923",
   "metadata": {},
   "source": [
    "---"
   ]
  },
  {
   "cell_type": "markdown",
   "id": "65f02794-238c-44f8-aad4-6651919650a1",
   "metadata": {},
   "source": [
    "CUSTOM RADIO PREPROCESSING:"
   ]
  },
  {
   "cell_type": "code",
   "execution_count": null,
   "id": "08762abb-99cf-42b7-ace1-46c478078469",
   "metadata": {},
   "outputs": [],
   "source": [
    "def radio_preprocessing(data, lower): #usually was data, lower = 3\n",
    "    noise = pu.rms_estimate(data.flatten(), mode='mad', clip_rounds=2)\n",
    "\n",
    "    img_scale = np.zeros_like(data)\n",
    "    for i, mask in enumerate(pu.island_segmentation(data, lower*noise)): #usually was data, 3*noise\n",
    "        if np.sum(mask) <= 5:\n",
    "            continue\n",
    "        img_scale[mask] = pu.minmax(np.log10(data[mask]))\n",
    "    return img_scale.astype(np.float32)"
   ]
  },
  {
   "cell_type": "code",
   "execution_count": null,
   "id": "3254f42d-497e-4713-a080-4ab3375dfc90",
   "metadata": {},
   "outputs": [],
   "source": [
    "filename = get_pkg_data_filename('image.i.EMU_1315+00B.SB64249.cont.taylor.0.restored.raw.fits')\n",
    "hdu = fits.open(filename)[0]\n",
    "wcs = WCS(hdu.header)\n",
    "wcs.wcs.specsys = 'TOPOCENT'\n",
    "#np.nanstd(np.squeeze(hdu.data)) #ignore all NaN "
   ]
  },
  {
   "cell_type": "code",
   "execution_count": null,
   "id": "1312488a-7ed5-42d1-ba44-203c27235924",
   "metadata": {},
   "outputs": [],
   "source": [
    "#-----STORE PREPROCESSED RADIO VALUES INTO A TEXT FILE-------------------------------\n",
    "preprocessed_radio_lower5plus = radio_preprocessing(hdu.data, lower = 5)\n",
    "\n",
    "import pickle\n",
    "file = open('preprocessed_radio_lower5plus.txt', 'wb')\n",
    "pickle.dump(preprocessed_radio_lower5plus, file)\n",
    "file.close()"
   ]
  },
  {
   "cell_type": "code",
   "execution_count": null,
   "id": "dd85943f-340a-48cf-9c02-5dc339172b30",
   "metadata": {},
   "outputs": [],
   "source": [
    "2+2"
   ]
  }
 ],
 "metadata": {
  "kernelspec": {
   "display_name": "Python 3 (ipykernel)",
   "language": "python",
   "name": "python3"
  },
  "language_info": {
   "codemirror_mode": {
    "name": "ipython",
    "version": 3
   },
   "file_extension": ".py",
   "mimetype": "text/x-python",
   "name": "python",
   "nbconvert_exporter": "python",
   "pygments_lexer": "ipython3",
   "version": "3.9.13"
  }
 },
 "nbformat": 4,
 "nbformat_minor": 5
}
