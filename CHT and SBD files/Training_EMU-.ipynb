{
 "cells": [
  {
   "cell_type": "code",
   "execution_count": 6,
   "id": "1c023075-36ac-48da-aeae-a8973559090e",
   "metadata": {},
   "outputs": [],
   "source": [
    "import pickle\n",
    "from multiprocessing import Pool\n",
    "from glob import glob\n",
    "from collections import Counter\n",
    "from astropy.utils.data import get_pkg_data_filename\n",
    "import pyink as pu\n",
    "\n",
    "import matplotlib.pyplot as plt\n",
    "import numpy as np\n",
    "import pandas as pd\n",
    "import astropy.units as u\n",
    "from tqdm import tqdm as tqdm\n",
    "from astropy.io import fits\n",
    "from astropy.table import Table\n",
    "from astropy.wcs import WCS\n",
    "from reproject import reproject_interp"
   ]
  },
  {
   "cell_type": "code",
   "execution_count": 7,
   "id": "9d99cd98-f509-438f-893b-827409559bf1",
   "metadata": {},
   "outputs": [],
   "source": [
    "def radio_preprocessing(data, lower): #usually was data, lower = 2\n",
    "    noise = pu.rms_estimate(data.flatten(), mode='mad', clip_rounds=2)\n",
    "\n",
    "    img_scale = np.zeros_like(data)\n",
    "    for i, mask in enumerate(pu.island_segmentation(data, lower*noise)): #usually was data, 3*noise\n",
    "        if np.sum(mask) <= 5:\n",
    "            continue\n",
    "        img_scale[mask] = pu.minmax(np.log10(data[mask]))\n",
    "    return img_scale.astype(np.float32)"
   ]
  },
  {
   "cell_type": "code",
   "execution_count": 8,
   "id": "3ae5d124-d81f-4dd7-967c-8c0a733e3f5f",
   "metadata": {},
   "outputs": [],
   "source": [
    "filename = get_pkg_data_filename('image.i.EMU_2115-60.SB54944.cont.taylor.0.restored.raw.fits')\n",
    "hdu = fits.open(filename)[0]\n",
    "wcs = WCS(hdu.header)\n",
    "wcs.wcs.specsys = 'TOPOCENT'\n",
    "#np.nanstd(np.squeeze(hdu.data)) #ignore all NaN "
   ]
  },
  {
   "cell_type": "code",
   "execution_count": null,
   "id": "d71998ca-07ca-46b0-b749-67b1671e0a6e",
   "metadata": {},
   "outputs": [],
   "source": [
    "preprocessed_radio_lower2 = radio_preprocessing(hdu.data, lower = 2)\n",
    "\n",
    "#import pickle\n",
    "#file = open('preprocessed_radio_lower2.txt', 'wb')\n",
    "#pickle.dump(preprocessed_radio_lower2, file)\n",
    "#file.close()\n"
   ]
  },
  {
   "cell_type": "code",
   "execution_count": 10,
   "id": "d578ec0d-87e6-4a9f-8f74-3a69f3b98b13",
   "metadata": {},
   "outputs": [
    {
     "data": {
      "text/plain": [
       "4"
      ]
     },
     "execution_count": 10,
     "metadata": {},
     "output_type": "execute_result"
    }
   ],
   "source": [
    "2 + 2"
   ]
  },
  {
   "cell_type": "markdown",
   "id": "10dac3ff-2eb2-4290-a7fe-0f5cc4dc722e",
   "metadata": {},
   "source": [
    "---"
   ]
  },
  {
   "cell_type": "code",
   "execution_count": 2,
   "id": "a0e87e2d-801f-4177-82ed-fc7f3d6cf7f1",
   "metadata": {},
   "outputs": [],
   "source": [
    "def radio_preprocessing(data, lower): #usually was data, lower = 3\n",
    "    noise = pu.rms_estimate(data.flatten(), mode='mad', clip_rounds=2)\n",
    "\n",
    "    img_scale = np.zeros_like(data)\n",
    "    for i, mask in enumerate(pu.island_segmentation(data, lower*noise)): #usually was data, 3*noise\n",
    "        if np.sum(mask) <= 5:\n",
    "            continue\n",
    "        img_scale[mask] = pu.minmax(np.log10(data[mask]))\n",
    "    return img_scale.astype(np.float32)"
   ]
  },
  {
   "cell_type": "code",
   "execution_count": 4,
   "id": "085ad39d-19ba-4176-9f7d-9d3f84c5dc0e",
   "metadata": {},
   "outputs": [],
   "source": [
    "filename = get_pkg_data_filename('image.i.EMU_2115-60.SB54944.cont.taylor.0.restored.raw.fits')\n",
    "hdu = fits.open(filename)[0]\n",
    "wcs = WCS(hdu.header)\n",
    "wcs.wcs.specsys = 'TOPOCENT'\n",
    "#np.nanstd(np.squeeze(hdu.data)) #ignore all NaN "
   ]
  },
  {
   "cell_type": "code",
   "execution_count": null,
   "id": "b97bb268-9549-44e1-bf87-e6f789ed9324",
   "metadata": {},
   "outputs": [],
   "source": [
    "#-----STORE PREPROCESSED RADIO VALUES INTO A TEXT FILE-------------------------------\n",
    "preprocessed_radio_lower3 = radio_preprocessing(hdu.data, lower = 3)\n",
    "\n",
    "#import pickle\n",
    "#file = open('preprocessed_radio_lower3.txt', 'wb')\n",
    "#pickle.dump(preprocessed_radio_lower3, file)\n",
    "#file.close()\n"
   ]
  },
  {
   "cell_type": "code",
   "execution_count": 4,
   "id": "30bef49f-4a8a-4c3e-bcfe-dcb18caa7f3a",
   "metadata": {},
   "outputs": [],
   "source": [
    "filename = get_pkg_data_filename('preprocessed_radio_real.fits')\n",
    "hdu = fits.open(filename)[0]\n",
    "wcs = WCS(hdu.header)\n",
    "wcs.wcs.specsys = 'TOPOCENT'\n",
    "#np.nanstd(np.squeeze(hdu.data)) #ignore all NaN "
   ]
  },
  {
   "cell_type": "code",
   "execution_count": 8,
   "id": "fb414f75-50d1-4bb9-9c58-641aa716bef5",
   "metadata": {},
   "outputs": [],
   "source": [
    "preprocessed_radio_lower3 = hdu.data"
   ]
  },
  {
   "cell_type": "code",
   "execution_count": 9,
   "id": "661db2ae-55eb-45cd-9d4c-4ac393a0525c",
   "metadata": {},
   "outputs": [],
   "source": [
    "import pickle\n",
    "file = open('preprocessed_radio_lower3.txt', 'wb')\n",
    "pickle.dump(preprocessed_radio_lower3, file)\n",
    "file.close()\n"
   ]
  },
  {
   "cell_type": "markdown",
   "id": "f5a9b582-42b1-4007-b767-ae3b156127d4",
   "metadata": {},
   "source": [
    "---"
   ]
  },
  {
   "cell_type": "code",
   "execution_count": null,
   "id": "e7c1316e-87cb-48ed-b7d6-b18bee2363f9",
   "metadata": {},
   "outputs": [],
   "source": [
    "def radio_preprocessing(data, lower): #usually was data, lower = 3\n",
    "    noise = pu.rms_estimate(data.flatten(), mode='mad', clip_rounds=2)\n",
    "\n",
    "    img_scale = np.zeros_like(data)\n",
    "    for i, mask in enumerate(pu.island_segmentation(data, lower*noise)): #usually was data, 3*noise\n",
    "        if np.sum(mask) <= 5:\n",
    "            continue\n",
    "        img_scale[mask] = pu.minmax(np.log10(data[mask]))\n",
    "    return img_scale.astype(np.float32)"
   ]
  },
  {
   "cell_type": "code",
   "execution_count": null,
   "id": "76f7ffdc-271b-4fba-9adf-047a91b72226",
   "metadata": {},
   "outputs": [],
   "source": [
    "filename = get_pkg_data_filename('image.i.EMU_2115-60.SB54944.cont.taylor.0.restored.raw.fits')\n",
    "hdu = fits.open(filename)[0]\n",
    "wcs = WCS(hdu.header)\n",
    "wcs.wcs.specsys = 'TOPOCENT'\n",
    "#np.nanstd(np.squeeze(hdu.data)) #ignore all NaN "
   ]
  },
  {
   "cell_type": "code",
   "execution_count": null,
   "id": "654341d4-c3b5-47a2-a896-2af266950c6f",
   "metadata": {},
   "outputs": [],
   "source": [
    "#-----STORE PREPROCESSED RADIO VALUES INTO A TEXT FILE-------------------------------\n",
    "preprocessed_radio_lower4 = radio_preprocessing(hdu.data, lower = 4)\n",
    "\n",
    "import pickle\n",
    "file = open('preprocessed_radio_lower4.txt', 'wb')\n",
    "pickle.dump(preprocessed_radio_lower4, file)\n",
    "file.close()\n"
   ]
  },
  {
   "cell_type": "markdown",
   "id": "75b2d616-5c76-4da3-8269-77a0a349a953",
   "metadata": {},
   "source": [
    "---"
   ]
  },
  {
   "cell_type": "code",
   "execution_count": null,
   "id": "8b6ed38b-10b3-4289-ba69-fe0329fe77dc",
   "metadata": {},
   "outputs": [],
   "source": [
    "def radio_preprocessing(data, lower): #usually was data, lower = 3\n",
    "    noise = pu.rms_estimate(data.flatten(), mode='mad', clip_rounds=2)\n",
    "\n",
    "    img_scale = np.zeros_like(data)\n",
    "    for i, mask in enumerate(pu.island_segmentation(data, lower*noise)): #usually was data, 3*noise\n",
    "        if np.sum(mask) <= 5:\n",
    "            continue\n",
    "        img_scale[mask] = pu.minmax(np.log10(data[mask]))\n",
    "    return img_scale.astype(np.float32)"
   ]
  },
  {
   "cell_type": "code",
   "execution_count": null,
   "id": "9f27c7c7-74a5-496e-9c0a-b4a4477356d1",
   "metadata": {},
   "outputs": [],
   "source": [
    "filename = get_pkg_data_filename('image.i.EMU_2115-60.SB54944.cont.taylor.0.restored.raw.fits')\n",
    "hdu = fits.open(filename)[0]\n",
    "wcs = WCS(hdu.header)\n",
    "wcs.wcs.specsys = 'TOPOCENT'\n",
    "#np.nanstd(np.squeeze(hdu.data)) #ignore all NaN "
   ]
  },
  {
   "cell_type": "code",
   "execution_count": null,
   "id": "a83581d0-3121-4ae7-b6d5-98244e7af1ae",
   "metadata": {},
   "outputs": [],
   "source": [
    "#-----STORE PREPROCESSED RADIO VALUES INTO A TEXT FILE-------------------------------\n",
    "preprocessed_radio_lower5 = radio_preprocessing(hdu.data, lower = 5)\n",
    "\n",
    "import pickle\n",
    "file = open('preprocessed_radio_lower5.txt', 'wb')\n",
    "pickle.dump(preprocessed_radio_lower5, file)\n",
    "file.close()"
   ]
  }
 ],
 "metadata": {
  "kernelspec": {
   "display_name": "Python 3 (ipykernel)",
   "language": "python",
   "name": "python3"
  },
  "language_info": {
   "codemirror_mode": {
    "name": "ipython",
    "version": 3
   },
   "file_extension": ".py",
   "mimetype": "text/x-python",
   "name": "python",
   "nbconvert_exporter": "python",
   "pygments_lexer": "ipython3",
   "version": "3.9.13"
  }
 },
 "nbformat": 4,
 "nbformat_minor": 5
}
