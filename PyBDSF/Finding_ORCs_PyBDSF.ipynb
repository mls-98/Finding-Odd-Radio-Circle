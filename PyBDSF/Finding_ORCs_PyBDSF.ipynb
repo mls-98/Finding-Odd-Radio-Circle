{
 "cells": [
  {
   "cell_type": "markdown",
   "id": "8af5b760",
   "metadata": {},
   "source": [
    "# Finding Odd Radio Circle using PyBDSF "
   ]
  },
  {
   "cell_type": "markdown",
   "id": "5942f880",
   "metadata": {},
   "source": [
    "This project demonstrate circular object detection using PyBDSF library.\n"
   ]
  },
  {
   "cell_type": "code",
   "execution_count": 3,
   "id": "3db406b2",
   "metadata": {},
   "outputs": [],
   "source": [
    "import pickle\n",
    "from multiprocessing import Pool\n",
    "from glob import glob\n",
    "from collections import Counter\n",
    "from astropy.utils.data import get_pkg_data_filename\n",
    "import pyink as pu\n",
    "\n",
    "import matplotlib.pyplot as plt\n",
    "import numpy as np\n",
    "import pandas as pd\n",
    "import astropy.units as u\n",
    "from tqdm import tqdm as tqdm\n",
    "from astropy.io import fits\n",
    "from astropy.table import Table\n",
    "from astropy.wcs import WCS\n",
    "from reproject import reproject_interp"
   ]
  },
  {
   "cell_type": "code",
   "execution_count": 4,
   "id": "7c75664f",
   "metadata": {},
   "outputs": [],
   "source": [
    "import bdsf\n",
    "import math\n"
   ]
  },
  {
   "cell_type": "markdown",
   "id": "5f7175a1",
   "metadata": {},
   "source": [
    "Pybdsf library must be used with FITS images. \n",
    "Images used in this project are FITS images from EMU survey. "
   ]
  },
  {
   "cell_type": "code",
   "execution_count": 5,
   "id": "5c620a07",
   "metadata": {},
   "outputs": [],
   "source": [
    "file1= get_pkg_data_filename('image.i.EMU_2115-60.SB54944.cont.taylor.0.restored.raw.fits')\n"
   ]
  },
  {
   "cell_type": "markdown",
   "id": "7af1c2b6",
   "metadata": {},
   "source": [
    "The area of the object is calculated based on the object being detected (i.e ORCs). Here the radius of the object is approximately 1arcminute in diameter which are around 20-40 radius in pixels in the FITS image."
   ]
  },
  {
   "cell_type": "code",
   "execution_count": 6,
   "id": "f081aebb",
   "metadata": {},
   "outputs": [
    {
     "name": "stdout",
     "output_type": "stream",
     "text": [
      "1256 5026\n"
     ]
    }
   ],
   "source": [
    "#area of circlde (island)\n",
    "\n",
    "min_area =int(math.pi * (20 ** 2))\n",
    "max_area =int(math.pi * (40 ** 2))\n",
    "\n",
    "print(min_area,max_area)"
   ]
  },
  {
   "cell_type": "markdown",
   "id": "f92664f2",
   "metadata": {},
   "source": [
    "# Testing Preprocessing\n"
   ]
  },
  {
   "cell_type": "markdown",
   "id": "70c930e1",
   "metadata": {},
   "source": [
    "When searching for ORCs, the default paramters will not be able to detect ORCs. As a preprocessing measure, following thresh_isl and thresh_pix must be lowered. (https://pybdsf.readthedocs.io/en/latest/process_image.html#term-thresh_pix)\n",
    "\n",
    "Lowering the thresh_isl will produce larger island for grouping. when the default parametr of 3 sigma above the mean was used, it was breaking the ORCs into smaller islands."
   ]
  },
  {
   "cell_type": "markdown",
   "id": "395876f7",
   "metadata": {},
   "source": [
    "For ORCs detection thresh_isl = 1.5 to 2.0 and thresh_pix = 5.0 - 4.0 worked the best for preprocessing"
   ]
  },
  {
   "cell_type": "code",
   "execution_count": null,
   "id": "42bf12a8",
   "metadata": {},
   "outputs": [],
   "source": [
    "img = bdsf.process_image(file1, \n",
    "                        group_by_isl='True',\n",
    "                        shapelet_do = 'True',\n",
    "                        minpix_isl= min_area,\n",
    "                        maxpix_isl=max_area\n",
    "                        )"
   ]
  },
  {
   "cell_type": "code",
   "execution_count": null,
   "id": "1f9ae06a",
   "metadata": {},
   "outputs": [],
   "source": [
    "img2_4 = bdsf.process_image(file1, \n",
    "                        group_by_isl='True',\n",
    "                        shapelet_do = 'True',\n",
    "                        thresh_isl= 2.0,\n",
    "                        thresh_pix=4,\n",
    "                        minpix_isl= min_area,\n",
    "                        maxpix_isl=max_area\n",
    "                        )"
   ]
  },
  {
   "cell_type": "code",
   "execution_count": null,
   "id": "1f31ec6d",
   "metadata": {},
   "outputs": [],
   "source": [
    "img2 = bdsf.process_image(file1, \n",
    "                        group_by_isl='True',\n",
    "                        shapelet_do = 'True',\n",
    "                        thresh_isl= 2.0,\n",
    "                        minpix_isl= min_area,\n",
    "                        maxpix_isl=max_area\n",
    "                        )"
   ]
  },
  {
   "cell_type": "code",
   "execution_count": null,
   "id": "69b5da7a",
   "metadata": {
    "scrolled": true
   },
   "outputs": [],
   "source": [
    "img3 = bdsf.process_image(file1, \n",
    "                        group_by_isl='True',\n",
    "                        shapelet_do = 'True',\n",
    "                        thresh_isl= 1.5,\n",
    "                        minpix_isl= min_area,\n",
    "                        maxpix_isl=max_area\n",
    "                        )"
   ]
  },
  {
   "cell_type": "code",
   "execution_count": null,
   "id": "4a8b2c74",
   "metadata": {},
   "outputs": [],
   "source": [
    "img4 = bdsf.process_image(file1, \n",
    "                        group_by_isl='True',\n",
    "                        shapelet_do = 'True',\n",
    "                        thresh_isl= 1.0,\n",
    "                        thresh_pix=4,\n",
    "                        minpix_isl= min_area,\n",
    "                        maxpix_isl=max_area\n",
    "                        )"
   ]
  },
  {
   "cell_type": "markdown",
   "id": "c035d88c",
   "metadata": {},
   "source": [
    "export result files"
   ]
  },
  {
   "cell_type": "code",
   "execution_count": 11,
   "id": "11106c35",
   "metadata": {},
   "outputs": [
    {
     "name": "stdout",
     "output_type": "stream",
     "text": [
      "--> Wrote file 'image_thresh3.fits'\n",
      "--> Wrote file 'image_thresh2_4.fits'\n",
      "--> Wrote file 'image_thresh2.fits'\n",
      "--> Wrote file 'image_thresh1.5.fits'\n",
      "--> Wrote file 'image_thresh1_4.fits'\n"
     ]
    },
    {
     "data": {
      "text/plain": [
       "True"
      ]
     },
     "execution_count": 11,
     "metadata": {},
     "output_type": "execute_result"
    }
   ],
   "source": [
    "img.export_image(outfile = 'image_thresh3.fits',clobber=\"True\",img_type='island_mask')\n",
    "img2_4.export_image(outfile = 'image_thresh2_4.fits',clobber=\"True\",img_type='island_mask')\n",
    "img2.export_image(outfile = 'image_thresh2.fits',clobber=\"True\",img_type='island_mask')\n",
    "img3.export_image(outfile = 'image_thresh1.5.fits',clobber=\"True\",img_type='island_mask')\n",
    "img4.export_image(outfile = 'image_thresh1_4.fits',clobber=\"True\",img_type='island_mask')\n"
   ]
  },
  {
   "cell_type": "markdown",
   "id": "c77c98a6",
   "metadata": {},
   "source": [
    "# Applying search parameter on images"
   ]
  },
  {
   "cell_type": "code",
   "execution_count": 4,
   "id": "f5411063",
   "metadata": {},
   "outputs": [],
   "source": [
    "file1= get_pkg_data_filename('image.i.EMU_2115-60.SB54944.cont.taylor.0.restored.raw.fits')\n",
    "file2= get_pkg_data_filename('image.i.EMU_1315+00B.SB64249.cont.taylor.0.highres.restored.conv.fits')\n",
    "file3= get_pkg_data_filename('image.i.EMU_1315+00B.SB64249.cont.taylor.0.restored.conv.fits')\n",
    "file4= get_pkg_data_filename('image.i.EMU_1315+00B.SB64249.cont.taylor.0.restored.raw.fits')\n",
    "file5= get_pkg_data_filename('image.i.EMU_2115-60.SB54944.cont.taylor.0.highres.restored.conv.fits')\n",
    "file6= get_pkg_data_filename('image.i.EMU_2115-60.SB54944.cont.taylor.0.restored.conv.fits')"
   ]
  },
  {
   "cell_type": "code",
   "execution_count": null,
   "id": "b176a8f5",
   "metadata": {},
   "outputs": [],
   "source": [
    "raw_54944_ = bdsf.process_image(file1, \n",
    "                        group_by_isl='True',\n",
    "                        shapelet_do = 'True',\n",
    "                        thresh_isl= 2.0,\n",
    "                        thresh_pix=4,\n",
    "                        minpix_isl= min_area,\n",
    "                        maxpix_isl=max_area\n",
    "                        )"
   ]
  },
  {
   "cell_type": "code",
   "execution_count": null,
   "id": "b0c81dad",
   "metadata": {},
   "outputs": [],
   "source": [
    "highres_64249 = bdsf.process_image(file2, \n",
    "                        group_by_isl='True',\n",
    "                        shapelet_do = 'True',\n",
    "                        thresh_isl= 2.0,\n",
    "                        thresh_pix=4,\n",
    "                        minpix_isl= min_area,\n",
    "                        maxpix_isl=max_area\n",
    "                        )"
   ]
  },
  {
   "cell_type": "code",
   "execution_count": null,
   "id": "e020f94b",
   "metadata": {},
   "outputs": [],
   "source": [
    "conv_64249 = bdsf.process_image(file3, \n",
    "                        group_by_isl='True',\n",
    "                        shapelet_do = 'True',\n",
    "                        thresh_isl= 2.0,\n",
    "                        thresh_pix=4,\n",
    "                        minpix_isl= min_area,\n",
    "                        maxpix_isl=max_area\n",
    "                        )"
   ]
  },
  {
   "cell_type": "code",
   "execution_count": null,
   "id": "b72cadd3",
   "metadata": {},
   "outputs": [],
   "source": [
    "raw_64249 = bdsf.process_image(file4, \n",
    "                        group_by_isl='True',\n",
    "                        shapelet_do = 'True',\n",
    "                        thresh_isl= 2.0,\n",
    "                        thresh_pix=4,\n",
    "                        minpix_isl= min_area,\n",
    "                        maxpix_isl=max_area\n",
    "                        )"
   ]
  },
  {
   "cell_type": "code",
   "execution_count": null,
   "id": "4d49c263",
   "metadata": {},
   "outputs": [],
   "source": [
    "highres_54944 = bdsf.process_image(file5, \n",
    "                        group_by_isl='True',\n",
    "                        shapelet_do = 'True',\n",
    "                        thresh_isl= 2.0,\n",
    "                        thresh_pix=4,\n",
    "                        minpix_isl= min_area,\n",
    "                        maxpix_isl=max_area\n",
    "                        )"
   ]
  },
  {
   "cell_type": "code",
   "execution_count": null,
   "id": "65d13068",
   "metadata": {},
   "outputs": [],
   "source": [
    "conv_54944 = bdsf.process_image(file6, \n",
    "                        group_by_isl='True',\n",
    "                        shapelet_do = 'True',\n",
    "                        thresh_isl= 2.0,\n",
    "                        thresh_pix=4,\n",
    "                        minpix_isl= min_area,\n",
    "                        maxpix_isl=max_area\n",
    "                        )"
   ]
  },
  {
   "cell_type": "markdown",
   "id": "df2a4a83",
   "metadata": {},
   "source": [
    "export result images"
   ]
  },
  {
   "cell_type": "code",
   "execution_count": 11,
   "id": "b72e19a3",
   "metadata": {},
   "outputs": [
    {
     "name": "stdout",
     "output_type": "stream",
     "text": [
      "--> Wrote file 'raw_54944.fits'\n",
      "--> Wrote file 'highres_64249.fits'\n",
      "--> Wrote file 'conv_64249.fits'\n",
      "--> Wrote file 'raw_64249.fits'\n",
      "--> Wrote file 'highres_54944.fits'\n",
      "--> Wrote file 'conv_54944.fits'\n"
     ]
    },
    {
     "data": {
      "text/plain": [
       "True"
      ]
     },
     "execution_count": 11,
     "metadata": {},
     "output_type": "execute_result"
    }
   ],
   "source": [
    "raw_54944_.export_image(outfile = 'raw_54944.fits',clobber=\"True\",img_type='island_mask')\n",
    "highres_64249.export_image(outfile = 'highres_64249.fits',clobber=\"True\",img_type='island_mask')\n",
    "conv_64249.export_image(outfile = 'conv_64249.fits',clobber=\"True\",img_type='island_mask')\n",
    "raw_64249.export_image(outfile = 'raw_64249.fits',clobber=\"True\",img_type='island_mask')\n",
    "highres_54944.export_image(outfile = 'highres_54944.fits',clobber=\"True\",img_type='island_mask')\n",
    "conv_54944.export_image(outfile = 'conv_54944.fits',clobber=\"True\",img_type='island_mask')\n"
   ]
  },
  {
   "cell_type": "markdown",
   "id": "cc5a60ff",
   "metadata": {},
   "source": [
    "# Exporting catalog"
   ]
  },
  {
   "cell_type": "markdown",
   "id": "b229bbdb",
   "metadata": {},
   "source": [
    "PyBDSF writes catalog of each detected source which can be exported for further use. full list of catalog variable -> https://pybdsf.readthedocs.io/en/latest/write_catalog.html"
   ]
  },
  {
   "cell_type": "code",
   "execution_count": 12,
   "id": "e61ddae3",
   "metadata": {},
   "outputs": [
    {
     "name": "stdout",
     "output_type": "stream",
     "text": [
      "--> Wrote ASCII file 'raw_54944.csv'\n",
      "--> Wrote ASCII file 'highres_64249.csv'\n",
      "--> Wrote ASCII file 'conv_64249.csv'\n",
      "--> Wrote ASCII file 'raw_64249.csv'\n",
      "--> Wrote ASCII file 'highres_54944.csv'\n",
      "--> Wrote ASCII file 'conv_54944.csv'\n"
     ]
    },
    {
     "data": {
      "text/plain": [
       "True"
      ]
     },
     "execution_count": 12,
     "metadata": {},
     "output_type": "execute_result"
    }
   ],
   "source": [
    "raw_54944_.write_catalog(format='csv',catalog_type='srl', outfile='raw_54944.csv', clobber=\"True\")\n",
    "highres_64249.write_catalog(format='csv',catalog_type='srl', outfile='highres_64249.csv', clobber=\"True\")\n",
    "conv_64249.write_catalog(format='csv',catalog_type='srl', outfile='conv_64249.csv', clobber=\"True\")\n",
    "raw_64249.write_catalog(format='csv',catalog_type='srl', outfile='raw_64249.csv', clobber=\"True\")\n",
    "highres_54944.write_catalog(format='csv',catalog_type='srl', outfile='highres_54944.csv', clobber=\"True\")\n",
    "conv_54944.write_catalog(format='csv',catalog_type='srl', outfile='conv_54944.csv', clobber=\"True\")"
   ]
  },
  {
   "cell_type": "markdown",
   "id": "50a23e33",
   "metadata": {},
   "source": [
    "# Circle Detection"
   ]
  },
  {
   "cell_type": "markdown",
   "id": "138ffba9",
   "metadata": {},
   "source": [
    "As pyBDSF does not have function specifically to detect circular objects, this will be done manually using the exported catalog. \n",
    "\n",
    "Maj: the FWHM of the major axis of the source, in degrees \\\n",
    "\n",
    "Min: the FWHM of the minor axis of the source, in degrees \\\n",
    "\n",
    "The circularity of the object are identified by getting the ratio of Min/Maj. If its ratio is closer to 1 it is likely to be a circular in shape."
   ]
  },
  {
   "cell_type": "code",
   "execution_count": 2,
   "id": "adb78cdd",
   "metadata": {},
   "outputs": [],
   "source": [
    "from astropy.coordinates import SkyCoord\n",
    "import astropy.units as u\n",
    "from matplotlib.patches import Circle\n",
    "import pandas as pd"
   ]
  },
  {
   "cell_type": "markdown",
   "id": "58cc157b",
   "metadata": {},
   "source": [
    "##  SB54944.raw"
   ]
  },
  {
   "cell_type": "code",
   "execution_count": 3,
   "id": "07650735",
   "metadata": {},
   "outputs": [],
   "source": [
    "cat = pd.read_csv(\"raw_54944.csv\", skiprows = 5) #image.i.EMU_2115-60.SB54944.cont.taylor.0.restored.raw.fit\n",
    "cat.columns = cat.columns.str.strip()"
   ]
  },
  {
   "cell_type": "markdown",
   "id": "84d78a54",
   "metadata": {},
   "source": [
    "Here the ratio threshold have been set to greater than 0.6"
   ]
  },
  {
   "cell_type": "code",
   "execution_count": 13,
   "id": "78140cdc",
   "metadata": {},
   "outputs": [
    {
     "name": "stdout",
     "output_type": "stream",
     "text": [
      "(15, 45)\n"
     ]
    }
   ],
   "source": [
    "circular_pos = cat[\"Min\"]/cat[\"Maj\"] > 0.6 #get index of island where ratio is greater than 0.6\n",
    "circular_catalog = cat[circular_pos]\n",
    "print(circular_catalog.shape)"
   ]
  },
  {
   "cell_type": "code",
   "execution_count": 14,
   "id": "d2706c93",
   "metadata": {},
   "outputs": [
    {
     "name": "stdout",
     "output_type": "stream",
     "text": [
      "3     324.800455\n",
      "4     324.586927\n",
      "17    323.308150\n",
      "22    322.097738\n",
      "25    322.144309\n",
      "37    317.545159\n",
      "38    317.361743\n",
      "40    317.015218\n",
      "41    316.806629\n",
      "42    316.547368\n",
      "47    316.062708\n",
      "48    315.742039\n",
      "52    314.832479\n",
      "53    314.656438\n",
      "56    314.125925\n",
      "Name: RA, dtype: float64 3    -59.614553\n",
      "4    -58.757632\n",
      "17   -62.487802\n",
      "22   -57.831750\n",
      "25   -60.370557\n",
      "37   -59.329882\n",
      "38   -62.563061\n",
      "40   -59.734858\n",
      "41   -62.244261\n",
      "42   -63.059642\n",
      "47   -58.941759\n",
      "48   -62.005216\n",
      "52   -58.822313\n",
      "53   -57.944016\n",
      "56   -58.338172\n",
      "Name: DEC, dtype: float64\n"
     ]
    }
   ],
   "source": [
    "RA = circular_catalog[\"RA\"] #get right ascension of circular object\n",
    "DEC =circular_catalog[\"DEC\"] #get declination of circular object\n",
    "print(RA, DEC)"
   ]
  },
  {
   "cell_type": "code",
   "execution_count": 15,
   "id": "401fdc6b",
   "metadata": {},
   "outputs": [
    {
     "name": "stderr",
     "output_type": "stream",
     "text": [
      "WARNING: FITSFixedWarning: 'unitfix' made the change 'Changed units:\n",
      "  'HZ' -> 'Hz'. [astropy.wcs.wcs]\n"
     ]
    }
   ],
   "source": [
    "filename = get_pkg_data_filename('raw_54944.fits')\n",
    "hdu = fits.open(filename)[0]\n",
    "wcs = WCS(hdu.header)\n",
    "wcs.wcs.specsys = 'TOPOCENT'"
   ]
  },
  {
   "cell_type": "markdown",
   "id": "219ffd3e",
   "metadata": {},
   "source": [
    "For plotting, RA and DEC of the detected sources are WCS are converted to WCS in pixel coordinates."
   ]
  },
  {
   "cell_type": "code",
   "execution_count": 16,
   "id": "3e033cdd",
   "metadata": {},
   "outputs": [],
   "source": [
    "coord = wcs.wcs_world2pix(RA, DEC,0,0,0)\n",
    "x,y = coord[0],coord[1]"
   ]
  },
  {
   "cell_type": "markdown",
   "id": "2c70b927",
   "metadata": {},
   "source": [
    "# Plot coordinates of circular objects "
   ]
  },
  {
   "cell_type": "markdown",
   "id": "eefbf1c2",
   "metadata": {},
   "source": [
    "# raw_54944"
   ]
  },
  {
   "cell_type": "code",
   "execution_count": 17,
   "id": "3374ca3e",
   "metadata": {},
   "outputs": [
    {
     "data": {
      "image/png": "[encoded data removed]",
      "text/plain": [
       "<Figure size 640x480 with 1 Axes>"
      ]
     },
     "metadata": {},
     "output_type": "display_data"
    }
   ],
   "source": [
    "plt.subplot(projection=wcs, slices = ('x','y',0,0))\n",
    "plt.imshow(np.squeeze(hdu.data), origin='lower')\n",
    "ax=plt.gca()\n",
    "\n",
    "for i in range(len(x)):\n",
    "    circle = Circle((x[i], y[i]), radius=100, edgecolor='red', facecolor='none')\n",
    "    ax.add_patch(circle)\n",
    "    \n",
    "plt.savefig('raw_54944.png' ,dpi = 1000, bbox_inches='tight') # save figure externally in png file\n",
    "plt.show()"
   ]
  },
  {
   "cell_type": "markdown",
   "id": "90197162",
   "metadata": {},
   "source": [
    "## highres_64249"
   ]
  },
  {
   "cell_type": "code",
   "execution_count": 18,
   "id": "9f24e2f7",
   "metadata": {},
   "outputs": [
    {
     "name": "stdout",
     "output_type": "stream",
     "text": [
      "(1, 45)\n",
      "4    199.701771\n",
      "Name: RA, dtype: float64 4    1.859135\n",
      "Name: DEC, dtype: float64\n"
     ]
    }
   ],
   "source": [
    "cat = pd.read_csv(\"highres_64249.csv\", skiprows = 5) #image.i.EMU_2115-60.SB54944.cont.taylor.0.restored.raw.fit\n",
    "cat.columns = cat.columns.str.strip()\n",
    "circular_pos = cat[\"Min\"]/cat[\"Maj\"] > 0.6\n",
    "circular_catalog = cat[circular_pos]\n",
    "print(circular_catalog.shape)\n",
    "\n",
    "RA = circular_catalog[\"RA\"]\n",
    "DEC =circular_catalog[\"DEC\"]\n",
    "print(RA, DEC)"
   ]
  },
  {
   "cell_type": "code",
   "execution_count": 19,
   "id": "fc31a3ce",
   "metadata": {},
   "outputs": [
    {
     "name": "stderr",
     "output_type": "stream",
     "text": [
      "WARNING: FITSFixedWarning: 'unitfix' made the change 'Changed units:\n",
      "  'HZ' -> 'Hz'. [astropy.wcs.wcs]\n"
     ]
    }
   ],
   "source": [
    "filename = get_pkg_data_filename('highres_64249.fits')\n",
    "hdu = fits.open(filename)[0]\n",
    "wcs = WCS(hdu.header)\n",
    "wcs.wcs.specsys = 'TOPOCENT'\n",
    "coord = wcs.wcs_world2pix(RA, DEC,0,0,0)\n",
    "x,y = coord[0],coord[1]"
   ]
  },
  {
   "cell_type": "code",
   "execution_count": 20,
   "id": "3309394f",
   "metadata": {},
   "outputs": [
    {
     "data": {
      "image/png": "[encoded data removed]",
      "text/plain": [
       "<Figure size 640x480 with 1 Axes>"
      ]
     },
     "metadata": {},
     "output_type": "display_data"
    }
   ],
   "source": [
    "plt.subplot(projection=wcs, slices = ('x','y',0,0))\n",
    "plt.imshow(np.squeeze(hdu.data), origin='lower') #np.squeeze to lower the NAXIS to 2\n",
    "ax=plt.gca()\n",
    "\n",
    "for i in range(len(x)):\n",
    "    circle = Circle((x[i], y[i]), radius=100, edgecolor='red', facecolor='none')\n",
    "    ax.add_patch(circle)\n",
    "    \n",
    "plt.savefig('highres_64249.png' ,dpi = 1000, bbox_inches='tight')\n",
    "plt.show()"
   ]
  },
  {
   "cell_type": "markdown",
   "id": "879e4537",
   "metadata": {},
   "source": [
    "## conv_64249"
   ]
  },
  {
   "cell_type": "code",
   "execution_count": 21,
   "id": "f1484ba7",
   "metadata": {},
   "outputs": [
    {
     "name": "stdout",
     "output_type": "stream",
     "text": [
      "(16, 45)\n",
      "1     202.165731\n",
      "3     201.909454\n",
      "6     201.583117\n",
      "13    201.174607\n",
      "16    201.052149\n",
      "23    200.111588\n",
      "26    199.914947\n",
      "35    199.238539\n",
      "37    199.153151\n",
      "40    198.910405\n",
      "42    198.820729\n",
      "48    198.188465\n",
      "50    197.931894\n",
      "63    196.912012\n",
      "64    196.881588\n",
      "72    195.244254\n",
      "Name: RA, dtype: float64 1    -1.027362\n",
      "3    -2.053185\n",
      "6     2.101024\n",
      "13   -0.792826\n",
      "16   -1.271648\n",
      "23    1.676702\n",
      "26   -0.923592\n",
      "35    0.417556\n",
      "37    0.873785\n",
      "40   -1.076508\n",
      "42    2.372499\n",
      "48   -2.433418\n",
      "50   -1.326292\n",
      "63   -0.942561\n",
      "64   -0.562591\n",
      "72   -0.028324\n",
      "Name: DEC, dtype: float64\n"
     ]
    }
   ],
   "source": [
    "cat = pd.read_csv(\"conv_64249.csv\", skiprows = 5) #image.i.EMU_2115-60.SB54944.cont.taylor.0.restored.raw.fit\n",
    "cat.columns = cat.columns.str.strip()\n",
    "circular_pos = cat[\"Min\"]/cat[\"Maj\"] > 0.6\n",
    "circular_catalog = cat[circular_pos]\n",
    "print(circular_catalog.shape)\n",
    "\n",
    "RA = circular_catalog[\"RA\"]\n",
    "DEC =circular_catalog[\"DEC\"]\n",
    "print(RA, DEC)"
   ]
  },
  {
   "cell_type": "code",
   "execution_count": 22,
   "id": "a65e9b23",
   "metadata": {},
   "outputs": [
    {
     "name": "stderr",
     "output_type": "stream",
     "text": [
      "WARNING: FITSFixedWarning: 'unitfix' made the change 'Changed units:\n",
      "  'HZ' -> 'Hz'. [astropy.wcs.wcs]\n"
     ]
    }
   ],
   "source": [
    "filename = get_pkg_data_filename('conv_64249.fits')\n",
    "hdu = fits.open(filename)[0]\n",
    "wcs = WCS(hdu.header)\n",
    "wcs.wcs.specsys = 'TOPOCENT'\n",
    "coord = wcs.wcs_world2pix(RA, DEC,0,0,0)\n",
    "x,y = coord[0],coord[1]"
   ]
  },
  {
   "cell_type": "code",
   "execution_count": 23,
   "id": "893e0a02",
   "metadata": {},
   "outputs": [
    {
     "data": {
      "image/png": "[encoded data removed]",
      "text/plain": [
       "<Figure size 640x480 with 1 Axes>"
      ]
     },
     "metadata": {},
     "output_type": "display_data"
    }
   ],
   "source": [
    "plt.subplot(projection=wcs, slices = ('x','y',0,0))\n",
    "plt.imshow(np.squeeze(hdu.data), origin='lower') #np.squeeze to lower the NAXIS to 2\n",
    "ax=plt.gca()\n",
    "\n",
    "for i in range(len(x)):\n",
    "    circle = Circle((x[i], y[i]), radius=100, edgecolor='red', facecolor='none')\n",
    "    ax.add_patch(circle)\n",
    "    \n",
    "plt.savefig('conv_64249.png' ,dpi = 1000, bbox_inches='tight')\n",
    "plt.show()"
   ]
  },
  {
   "cell_type": "markdown",
   "id": "426c917b",
   "metadata": {},
   "source": [
    "## raw_64249"
   ]
  },
  {
   "cell_type": "code",
   "execution_count": 24,
   "id": "62863a5b",
   "metadata": {},
   "outputs": [
    {
     "name": "stdout",
     "output_type": "stream",
     "text": [
      "(8, 45)\n",
      "1     201.909415\n",
      "3     201.584437\n",
      "7     201.174576\n",
      "10    201.051659\n",
      "14    200.313163\n",
      "16    200.111584\n",
      "22    198.820701\n",
      "33    195.244482\n",
      "Name: RA, dtype: float64 1    -2.053230\n",
      "3     2.102274\n",
      "7    -0.792831\n",
      "10   -1.271727\n",
      "14    1.221413\n",
      "16    1.676720\n",
      "22    2.372351\n",
      "33   -0.026236\n",
      "Name: DEC, dtype: float64\n"
     ]
    }
   ],
   "source": [
    "cat = pd.read_csv(\"raw_64249.csv\", skiprows = 5) #image.i.EMU_2115-60.SB54944.cont.taylor.0.restored.raw.fit\n",
    "cat.columns = cat.columns.str.strip()\n",
    "circular_pos = cat[\"Min\"]/cat[\"Maj\"] > 0.6\n",
    "circular_catalog = cat[circular_pos]\n",
    "print(circular_catalog.shape)\n",
    "\n",
    "RA = circular_catalog[\"RA\"]\n",
    "DEC =circular_catalog[\"DEC\"]\n",
    "print(RA, DEC)"
   ]
  },
  {
   "cell_type": "code",
   "execution_count": 25,
   "id": "50e1a324",
   "metadata": {},
   "outputs": [
    {
     "name": "stderr",
     "output_type": "stream",
     "text": [
      "WARNING: FITSFixedWarning: 'unitfix' made the change 'Changed units:\n",
      "  'HZ' -> 'Hz'. [astropy.wcs.wcs]\n"
     ]
    }
   ],
   "source": [
    "filename = get_pkg_data_filename('raw_64249.fits')\n",
    "hdu = fits.open(filename)[0]\n",
    "wcs = WCS(hdu.header)\n",
    "wcs.wcs.specsys = 'TOPOCENT'\n",
    "coord = wcs.wcs_world2pix(RA, DEC,0,0,0)\n",
    "x,y = coord[0],coord[1]"
   ]
  },
  {
   "cell_type": "code",
   "execution_count": 28,
   "id": "fea2440a",
   "metadata": {},
   "outputs": [
    {
     "data": {
      "image/png": "[encoded data removed]",
      "text/plain": [
       "<Figure size 640x480 with 1 Axes>"
      ]
     },
     "metadata": {},
     "output_type": "display_data"
    }
   ],
   "source": [
    "plt.subplot(projection=wcs, slices = ('x','y',0,0))\n",
    "plt.imshow(np.squeeze(hdu.data), origin='lower') #np.squeeze to lower the NAXIS to 2\n",
    "ax=plt.gca()\n",
    "\n",
    "for i in range(len(x)):\n",
    "    circle = Circle((x[i], y[i]), radius=100, edgecolor='red', facecolor='none')\n",
    "    ax.add_patch(circle)\n",
    "    \n",
    "plt.savefig('raw_64249.png' ,dpi = 1000, bbox_inches='tight')\n",
    "plt.show()"
   ]
  },
  {
   "cell_type": "markdown",
   "id": "c4f47315",
   "metadata": {},
   "source": [
    "## highres_54944"
   ]
  },
  {
   "cell_type": "code",
   "execution_count": 29,
   "id": "cda60838",
   "metadata": {},
   "outputs": [
    {
     "name": "stdout",
     "output_type": "stream",
     "text": [
      "(3, 45)\n",
      "2    323.813304\n",
      "4    322.158593\n",
      "5    320.266807\n",
      "Name: RA, dtype: float64 2   -62.071139\n",
      "4   -60.370529\n",
      "5   -61.190507\n",
      "Name: DEC, dtype: float64\n"
     ]
    }
   ],
   "source": [
    "cat = pd.read_csv(\"highres_54944.csv\", skiprows = 5) #image.i.EMU_2115-60.SB54944.cont.taylor.0.restored.raw.fit\n",
    "cat.columns = cat.columns.str.strip()\n",
    "circular_pos = cat[\"Min\"]/cat[\"Maj\"] > 0.6\n",
    "circular_catalog = cat[circular_pos]\n",
    "print(circular_catalog.shape)\n",
    "\n",
    "RA = circular_catalog[\"RA\"]\n",
    "DEC =circular_catalog[\"DEC\"]\n",
    "print(RA, DEC)"
   ]
  },
  {
   "cell_type": "code",
   "execution_count": 30,
   "id": "ce577720",
   "metadata": {},
   "outputs": [
    {
     "name": "stderr",
     "output_type": "stream",
     "text": [
      "WARNING: FITSFixedWarning: 'unitfix' made the change 'Changed units:\n",
      "  'HZ' -> 'Hz'. [astropy.wcs.wcs]\n"
     ]
    }
   ],
   "source": [
    "filename = get_pkg_data_filename('highres_54944.fits')\n",
    "hdu = fits.open(filename)[0]\n",
    "wcs = WCS(hdu.header)\n",
    "wcs.wcs.specsys = 'TOPOCENT'\n",
    "coord = wcs.wcs_world2pix(RA, DEC,0,0,0)\n",
    "x,y = coord[0],coord[1]"
   ]
  },
  {
   "cell_type": "code",
   "execution_count": 31,
   "id": "bf36e5b3",
   "metadata": {},
   "outputs": [
    {
     "data": {
      "image/png": "[encoded data removed]",
      "text/plain": [
       "<Figure size 640x480 with 1 Axes>"
      ]
     },
     "metadata": {},
     "output_type": "display_data"
    }
   ],
   "source": [
    "plt.subplot(projection=wcs, slices = ('x','y',0,0))\n",
    "plt.imshow(np.squeeze(hdu.data), origin='lower') #np.squeeze to lower the NAXIS to 2\n",
    "ax=plt.gca()\n",
    "\n",
    "for i in range(len(x)):\n",
    "    circle = Circle((x[i], y[i]), radius=100, edgecolor='red', facecolor='none')\n",
    "    ax.add_patch(circle)\n",
    "    \n",
    "plt.savefig('highres_54944.png' ,dpi = 1000, bbox_inches='tight')\n",
    "plt.show()"
   ]
  },
  {
   "cell_type": "markdown",
   "id": "a4eeffb2",
   "metadata": {},
   "source": [
    "## conv_54944"
   ]
  },
  {
   "cell_type": "code",
   "execution_count": 34,
   "id": "0dcc3bf1",
   "metadata": {},
   "outputs": [
    {
     "name": "stdout",
     "output_type": "stream",
     "text": [
      "(42, 45)\n",
      "9      324.800498\n",
      "11     324.585873\n",
      "21     324.206219\n",
      "28     322.998427\n",
      "30     322.902906\n",
      "33     323.308152\n",
      "37     322.585222\n",
      "38     322.475385\n",
      "43     322.097787\n",
      "46     322.143418\n",
      "49     321.718198\n",
      "70     318.443205\n",
      "74     318.364295\n",
      "76     318.300078\n",
      "79     317.856030\n",
      "82     317.545158\n",
      "83     317.393826\n",
      "84     317.312405\n",
      "85     317.362920\n",
      "86     317.459684\n",
      "90     317.125668\n",
      "92     316.990914\n",
      "93     317.048080\n",
      "94     317.014449\n",
      "95     316.806793\n",
      "97     316.547232\n",
      "100    316.493290\n",
      "101    316.556234\n",
      "110    316.062624\n",
      "111    315.742766\n",
      "112    315.198284\n",
      "113    315.384268\n",
      "115    314.894857\n",
      "116    314.784837\n",
      "119    314.622860\n",
      "121    314.832406\n",
      "122    314.656445\n",
      "140    311.636338\n",
      "145    312.124544\n",
      "146    311.446046\n",
      "147    312.035663\n",
      "149    311.583264\n",
      "Name: RA, dtype: float64 9     -59.614518\n",
      "11    -58.757660\n",
      "21    -62.672931\n",
      "28    -57.486382\n",
      "30    -58.381429\n",
      "33    -62.487753\n",
      "37    -59.257357\n",
      "38    -58.965969\n",
      "43    -57.831748\n",
      "46    -60.370301\n",
      "49    -57.968289\n",
      "70    -60.386288\n",
      "74    -59.176308\n",
      "76    -58.430435\n",
      "79    -59.407878\n",
      "82    -59.329889\n",
      "83    -62.512445\n",
      "84    -63.290328\n",
      "85    -62.562607\n",
      "86    -59.648958\n",
      "90    -62.568375\n",
      "92    -62.269245\n",
      "93    -60.403575\n",
      "94    -59.734209\n",
      "95    -62.244757\n",
      "97    -63.059653\n",
      "100   -62.307326\n",
      "101   -60.203633\n",
      "110   -58.941756\n",
      "111   -62.005037\n",
      "112   -62.595678\n",
      "113   -60.481959\n",
      "115   -62.533122\n",
      "116   -62.594087\n",
      "119   -62.171269\n",
      "121   -58.822275\n",
      "122   -57.944013\n",
      "140   -62.806472\n",
      "145   -58.706118\n",
      "146   -61.583465\n",
      "147   -58.714903\n",
      "149   -60.373311\n",
      "Name: DEC, dtype: float64\n"
     ]
    }
   ],
   "source": [
    "cat = pd.read_csv(\"conv_54944.csv\", skiprows = 5) #image.i.EMU_2115-60.SB54944.cont.taylor.0.restored.raw.fit\n",
    "cat.columns = cat.columns.str.strip()\n",
    "circular_pos = cat[\"Min\"]/cat[\"Maj\"] > 0.6\n",
    "circular_catalog = cat[circular_pos]\n",
    "print(circular_catalog.shape)\n",
    "\n",
    "RA = circular_catalog[\"RA\"]\n",
    "DEC =circular_catalog[\"DEC\"]\n",
    "print(RA, DEC)"
   ]
  },
  {
   "cell_type": "code",
   "execution_count": 35,
   "id": "35c4cb63",
   "metadata": {},
   "outputs": [
    {
     "name": "stderr",
     "output_type": "stream",
     "text": [
      "WARNING: FITSFixedWarning: 'unitfix' made the change 'Changed units:\n",
      "  'HZ' -> 'Hz'. [astropy.wcs.wcs]\n"
     ]
    }
   ],
   "source": [
    "filename = get_pkg_data_filename('conv_54944.fits')\n",
    "hdu = fits.open(filename)[0]\n",
    "wcs = WCS(hdu.header)\n",
    "wcs.wcs.specsys = 'TOPOCENT'\n",
    "coord = wcs.wcs_world2pix(RA, DEC,0,0,0)\n",
    "x,y = coord[0],coord[1]"
   ]
  },
  {
   "cell_type": "code",
   "execution_count": 37,
   "id": "aabb0347",
   "metadata": {},
   "outputs": [
    {
     "data": {
      "image/png": "[encoded data removed]",
      "text/plain": [
       "<Figure size 640x480 with 1 Axes>"
      ]
     },
     "metadata": {},
     "output_type": "display_data"
    }
   ],
   "source": [
    "plt.subplot(projection=wcs, slices = ('x','y',0,0))\n",
    "plt.imshow(np.squeeze(hdu.data), origin='lower') #np.squeeze to lower the NAXIS to 2\n",
    "ax=plt.gca()\n",
    "\n",
    "for i in range(len(x)):\n",
    "    circle = Circle((x[i], y[i]), radius=100, edgecolor='red', facecolor='none')\n",
    "    ax.add_patch(circle)\n",
    "    \n",
    "plt.savefig('conv_54944.pdf' ,dpi = 1000, bbox_inches='tight')\n",
    "plt.show()"
   ]
  }
 ],
 "metadata": {
  "kernelspec": {
   "display_name": "Python 3 (ipykernel)",
   "language": "python",
   "name": "python3"
  },
  "language_info": {
   "codemirror_mode": {
    "name": "ipython",
    "version": 3
   },
   "file_extension": ".py",
   "mimetype": "text/x-python",
   "name": "python",
   "nbconvert_exporter": "python",
   "pygments_lexer": "ipython3",
   "version": "3.9.13"
  }
 },
 "nbformat": 4,
 "nbformat_minor": 5
}
